{
 "cells": [
  {
   "cell_type": "markdown",
   "id": "2bd1c91a-cbc7-4ef5-9de1-376abc6e8a08",
   "metadata": {},
   "source": [
    "![title](https://pic2.zhimg.com/v2-558827bfd78e1b1f15a3ac6c51a7d941_1440w.jpg)"
   ]
  },
  {
   "cell_type": "markdown",
   "id": "e8be34a6-9475-452b-a5cc-744a3bb428bd",
   "metadata": {
    "editable": false,
    "slideshow": {
     "slide_type": ""
    },
    "tags": []
   },
   "source": [
    " ## 一、打印 “hello world”"
   ]
  },
  {
   "cell_type": "code",
   "execution_count": 1,
   "id": "e265b053-b9bf-4eec-8324-0654141f6535",
   "metadata": {
    "editable": true,
    "slideshow": {
     "slide_type": ""
    },
    "tags": []
   },
   "outputs": [
    {
     "name": "stdout",
     "output_type": "stream",
     "text": [
      "hello world\n",
      "hello world\n",
      "hello world\n"
     ]
    }
   ],
   "source": [
    "# 方法 1\n",
    "print(\"hello world\")\n",
    "\n",
    "# 方法 2\n",
    "str = \"hello world\"\n",
    "print(str)\n",
    "\n",
    "# 方法 3\n",
    "str1 = \"hello\"\n",
    "str2 = \" world\"\n",
    "print(str1+str2)"
   ]
  },
  {
   "cell_type": "markdown",
   "id": "4a7420db-1dc7-4fc1-8129-6d60b143dc3a",
   "metadata": {},
   "source": [
    "## 二、导入numpy包、使用数组\n",
    "- import的方式导入依赖包\n",
    "- 创建数组\n",
    "- 对数组排序"
   ]
  },
  {
   "cell_type": "code",
   "execution_count": 10,
   "id": "1aadb771-76bc-442f-9b08-face2a2d4098",
   "metadata": {},
   "outputs": [
    {
     "name": "stdout",
     "output_type": "stream",
     "text": [
      "Writing to /home/jovyan/.config/pip/pip.conf\n"
     ]
    }
   ],
   "source": [
    "# 设置pip源\n",
    "!pip config set global.index-url https://mirrors.aliyun.com/pypi/simple"
   ]
  },
  {
   "cell_type": "code",
   "execution_count": 9,
   "id": "db25c2f8-2649-491d-801e-4c9d404d0da2",
   "metadata": {
    "collapsed": true,
    "jupyter": {
     "outputs_hidden": true
    }
   },
   "outputs": [
    {
     "name": "stdout",
     "output_type": "stream",
     "text": [
      "Looking in indexes: https://mirrors.aliyun.com/pypi/simple\n",
      "Collecting numpy\n",
      "  Downloading https://mirrors.aliyun.com/pypi/packages/5b/86/caec78829311f62afa6fa334c8dfcd79cffb4d24bcf96ee02ae4840d462b/numpy-2.2.2-cp311-cp311-manylinux_2_17_x86_64.manylinux2014_x86_64.whl (16.4 MB)\n",
      "\u001b[2K     \u001b[90m━━━━━━━━━━━━━━━━━━━━━━━━━━━━━━━━━━━━━━━━\u001b[0m \u001b[32m16.4/16.4 MB\u001b[0m \u001b[31m19.5 MB/s\u001b[0m eta \u001b[36m0:00:00\u001b[0m00:01\u001b[0m00:01\u001b[0m\n",
      "\u001b[?25hInstalling collected packages: numpy\n",
      "Successfully installed numpy-2.2.2\n"
     ]
    }
   ],
   "source": [
    "!pip install numpy"
   ]
  },
  {
   "cell_type": "code",
   "execution_count": 11,
   "id": "0d7df743-a4d9-4b8a-a358-fbecab288f07",
   "metadata": {},
   "outputs": [
    {
     "name": "stdout",
     "output_type": "stream",
     "text": [
      "[1 4 3 5]\n",
      "[1 3 4 5]\n"
     ]
    }
   ],
   "source": [
    "# 导入数据包\n",
    "import numpy as np\n",
    "\n",
    "# 创建数组\n",
    "arr = np.array([1,4,3,5])\n",
    "print(arr)\n",
    "\n",
    "# 对数组排序\n",
    "arr.sort()\n",
    "print(arr)"
   ]
  },
  {
   "cell_type": "markdown",
   "id": "b2822536-2048-42e0-a099-cc2f2ee4eda1",
   "metadata": {},
   "source": [
    "## 三、使用常见函数\n",
    "- len()\n",
    "- max\n",
    "- min"
   ]
  },
  {
   "cell_type": "code",
   "execution_count": 12,
   "id": "0a699ecb-cb67-4f3b-91e7-2bc9cc4aa87e",
   "metadata": {
    "editable": true,
    "slideshow": {
     "slide_type": ""
    },
    "tags": []
   },
   "outputs": [
    {
     "name": "stdout",
     "output_type": "stream",
     "text": [
      "4\n",
      "5\n",
      "1\n"
     ]
    }
   ],
   "source": [
    "print(len(arr))\n",
    "\n",
    "print(arr.max())\n",
    "\n",
    "print(arr.min())"
   ]
  }
 ],
 "metadata": {
  "kernelspec": {
   "display_name": "Python 3 (ipykernel)",
   "language": "python",
   "name": "python3"
  },
  "language_info": {
   "codemirror_mode": {
    "name": "ipython",
    "version": 3
   },
   "file_extension": ".py",
   "mimetype": "text/x-python",
   "name": "python",
   "nbconvert_exporter": "python",
   "pygments_lexer": "ipython3",
   "version": "3.11.6"
  }
 },
 "nbformat": 4,
 "nbformat_minor": 5
}
